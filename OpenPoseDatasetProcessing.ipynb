{
  "nbformat": 4,
  "nbformat_minor": 0,
  "metadata": {
    "colab": {
      "name": "PassVideosThroughOpenPoseWholeVideos.ipynb",
      "provenance": [],
      "collapsed_sections": []
    },
    "kernelspec": {
      "name": "python3",
      "display_name": "Python 3"
    },
    "accelerator": "GPU"
  },
  "cells": [
    {
      "cell_type": "code",
      "metadata": {
        "id": "RLKXkkHdab5N"
      },
      "source": [
        "from google.colab import drive\n",
        "drive.mount('/content/drive')"
      ],
      "execution_count": null,
      "outputs": []
    },
    {
      "cell_type": "code",
      "metadata": {
        "id": "3vtc7IhfpAFL"
      },
      "source": [
        "import os\n",
        "from os.path import exists, join, basename, splitext\n",
        "\n",
        "git_repo_url = 'https://github.com/CMU-Perceptual-Computing-Lab/openpose.git'\n",
        "project_name = splitext(basename(git_repo_url))[0]\n",
        "if not exists(project_name):\n",
        "  # see: https://github.com/CMU-Perceptual-Computing-Lab/openpose/issues/949\n",
        "  # install new CMake becaue of CUDA10\n",
        "  !wget -q https://cmake.org/files/v3.13/cmake-3.13.0-Linux-x86_64.tar.gz\n",
        "  !tar xfz cmake-3.13.0-Linux-x86_64.tar.gz --strip-components=1 -C /usr/local\n",
        "  # clone openpose\n",
        "  !git clone -q --depth 1 $git_repo_url\n",
        "  !sed -i 's/execute_process(COMMAND git checkout master WORKING_DIRECTORY ${CMAKE_SOURCE_DIR}\\/3rdparty\\/caffe)/execute_process(COMMAND git checkout f019d0dfe86f49d1140961f8c7dec22130c83154 WORKING_DIRECTORY ${CMAKE_SOURCE_DIR}\\/3rdparty\\/caffe)/g' openpose/CMakeLists.txt\n",
        "  # install system dependencies\n",
        "  !apt-get -qq install -y libatlas-base-dev libprotobuf-dev libleveldb-dev libsnappy-dev libhdf5-serial-dev protobuf-compiler libgflags-dev libgoogle-glog-dev liblmdb-dev opencl-headers ocl-icd-opencl-dev libviennacl-dev\n",
        "  # install python dependencies\n",
        "  !pip install -q youtube-dl\n",
        "  # build openpose\n",
        "  !cd openpose && rm -rf build || true && mkdir build && cd build && cmake .. && make -j`nproc`\n",
        "\n",
        "# ! apt update\n",
        "# ! apt install -y cmake sudo libopencv-dev\n",
        "# ! git clone https://github.com/CMU-Perceptual-Computing-Lab/openpose.git\n",
        "# ! cd openpose/ubuntu && ./install_cmake.sh && ./install_cuda.sh && ./install_cudnn.sh\n",
        "# ! cd openpose && git pull origin master && rm -r build || true && mkdir build && cd build && cmake .. && make -j`nproc`\n"
      ],
      "execution_count": null,
      "outputs": []
    },
    {
      "cell_type": "code",
      "metadata": {
        "id": "h9nUKCetJj3F"
      },
      "source": [
        "import re\n",
        "import glob\n",
        "from datetime import datetime as time\n",
        "with open(\"drive/My Drive/TanecProjekt/whole_videos_easyDataset/genre_counts.txt\") as f: #5s_videoClips/genre_counts.txt\") as f:\n",
        "    inputString = f.read()\n",
        "\n",
        "inputString = re.sub(r\" +\", \" \", inputString)\n",
        "itemsInString = inputString.split(\" \")\n",
        "\n",
        "genres = []\n",
        "noOfVideos = []\n",
        "for index, item in enumerate(itemsInString):\n",
        "    if index % 2 == 0:\n",
        "        genres.append(item)\n",
        "    else:\n",
        "        noOfVideos.append(item)\n",
        "###Create the directories\n",
        "# for ig,g in enumerate(genres):\n",
        "#   name1 = 'drive/MyDrive/TanecProjekt/18keypointsData/'+g\n",
        "#   !mkdir $name1\n",
        "#   for i in range(int(noOfVideos[ig])):\n",
        "#     name2 = 'drive/MyDrive/TanecProjekt/18keypointsData/'+g+'/'+g+'_{}'.format(i+1)\n",
        "#     !mkdir $name2\n",
        "\n",
        "print(genres)"
      ],
      "execution_count": null,
      "outputs": []
    },
    {
      "cell_type": "code",
      "metadata": {
        "id": "vsB3y9fhO4DL"
      },
      "source": [
        "!ls openpose/models/pose/coco\n"
      ],
      "execution_count": null,
      "outputs": []
    },
    {
      "cell_type": "code",
      "metadata": {
        "id": "muawoc1ebCLp"
      },
      "source": [
        "import re\n",
        "import glob\n",
        "from datetime import datetime as time\n",
        "with open(\"drive/My Drive/TanecProjekt/whole_videos_easyDataset/genre_counts.txt\") as f:\n",
        "    inputString = f.read()\n",
        "\n",
        "inputString = re.sub(r\" +\", \" \", inputString)\n",
        "itemsInString = inputString.split(\" \")\n",
        "\n",
        "genres = []\n",
        "noOfVideos = []\n",
        "for index, item in enumerate(itemsInString):\n",
        "    if index % 2 == 0:\n",
        "        genres.append(item)\n",
        "    else:\n",
        "        noOfVideos.append(item)\n",
        "\n",
        "timeStampStart = time.now()\n",
        "\n",
        "for index, genre in enumerate(genres):\n",
        "    sampleSize = noOfVideos[index]\n",
        "    if(True): #First just process Chacha and see how long it takes\n",
        "      for i in range(0,int(sampleSize)):\n",
        "        #if(i>7):\n",
        "        #search directory\n",
        "        filePath = '../drive/MyDrive/TanecProjekt/whole_videos_easyDataset/{}/{}_{}.mp4'.format(genre,genre,i+1)\n",
        "        #pathOutVid = ((filePath.replace('whole_videos_easyDataset','18keypointsData')).replace('.mp4','_Poses.mp4')).replace('/My Drive/','/My\\ Drive/')\n",
        "        #filePath = '../' + filePath.replace('/My Drive/','/My\\ Drive/')\n",
        "        outname = filePath.replace('mp4','json')\n",
        "        pathOutJson = '../drive/MyDrive/TanecProjekt/18keypointsData/{}/{}_{}'.format(genre,genre,i+1)\n",
        "        start = time.now()\n",
        "        !cd openpose && ./build/examples/openpose/openpose.bin --video $filePath --display 0 --model_pose 'BODY_25'  --write_json $pathOutJson --render_pose 0   #--write_video ../drive/My\\ Drive/TanecProjekt/processedVideo.avi        \n",
        "        #!ffmpeg -y -loglevel info -i drive/My\\ Drive/TanecProjekt/processedVideo.avi $pathOutVid\n",
        "        stop = time.now()\n",
        "        print(\"Video {} was processed by OpenPose and converted by ffmpeg in {} seconds\".format(filePath,stop-start))\n",
        "      timeStampStop = time.now()\n",
        "      print('Time:')\n",
        "      print(timeStampStop-timeStampStart)\n"
      ],
      "execution_count": null,
      "outputs": []
    }
  ]
}